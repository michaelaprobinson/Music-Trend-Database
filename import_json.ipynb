{
 "cells": [
  {
   "cell_type": "code",
   "execution_count": 33,
   "id": "aa613eb4-6896-4ef8-98ba-90d3b5617f16",
   "metadata": {},
   "outputs": [],
   "source": [
    "import json\n",
    "import mysql.connector\n",
    "import requests"
   ]
  },
  {
   "cell_type": "code",
   "execution_count": 35,
   "id": "93e159f1-7b40-4ceb-af89-22ca97aaf2da",
   "metadata": {},
   "outputs": [],
   "source": [
    "url = \"https://raw.githubusercontent.com/mhollingshead/billboard-hot-100/main/all.json\"\n",
    "response = requests.get(url)\n",
    "data = response.json()"
   ]
  },
  {
   "cell_type": "code",
   "execution_count": 37,
   "id": "ebe99ffa-8485-48ad-8c44-963d0c1ccfb0",
   "metadata": {},
   "outputs": [],
   "source": [
    "conn = mysql.connector.connect(\n",
    "    host=\"localhost\",\n",
    "    user=\"seminar_user\",\n",
    "    password=\"Seminartrend123?\",\n",
    "    database=\"music_trends\")\n",
    "\n",
    "cur = conn.cursor()"
   ]
  },
  {
   "cell_type": "code",
   "execution_count": 45,
   "id": "7171a9e1-f5f8-4d7c-8fcc-d6795519c3f7",
   "metadata": {},
   "outputs": [
    {
     "name": "stdout",
     "output_type": "stream",
     "text": [
      "Inserted 1000 records...\n",
      "Inserted 2000 records...\n",
      "Inserted 3000 records...\n",
      "Inserted 3505 total records.\n"
     ]
    }
   ],
   "source": [
    "query = \"\"\"\n",
    "INSERT INTO json_import (chart_date, chart_rank, song, artist, last_week, peak_rank, weeks_on_board)\n",
    "VALUES (%s, %s, %s, %s, %s, %s, %s)\n",
    "\"\"\"\n",
    "\n",
    "count = 0\n",
    "for week in data:\n",
    "    date = week['date']\n",
    "    for entry in week[\"data\"]:\n",
    "        cur.execute(query, (\n",
    "            date,\n",
    "            entry[\"this_week\"],\n",
    "            entry[\"song\"],\n",
    "            entry[\"artist\"],\n",
    "            entry[\"last_week\"] if entry[\"last_week\"] is not None else None,\n",
    "            entry[\"peak_position\"],\n",
    "            entry[\"weeks_on_chart\"]\n",
    "        ))\n",
    "    count += 1\n",
    "    if count % 1000 == 0:\n",
    "        conn.commit()\n",
    "        print(f\"Inserted {count} records...\")\n",
    "\n",
    "conn.commit()\n",
    "print(f\"Inserted {count} total records.\")\n",
    "cur.close()\n",
    "conn.close()"
   ]
  },
  {
   "cell_type": "code",
   "execution_count": null,
   "id": "0d9269ba-7d8e-4828-a4f0-a6ad1faff2d9",
   "metadata": {},
   "outputs": [],
   "source": []
  }
 ],
 "metadata": {
  "kernelspec": {
   "display_name": "Python 3 (ipykernel)",
   "language": "python",
   "name": "python3"
  },
  "language_info": {
   "codemirror_mode": {
    "name": "ipython",
    "version": 3
   },
   "file_extension": ".py",
   "mimetype": "text/x-python",
   "name": "python",
   "nbconvert_exporter": "python",
   "pygments_lexer": "ipython3",
   "version": "3.11.7"
  }
 },
 "nbformat": 4,
 "nbformat_minor": 5
}
